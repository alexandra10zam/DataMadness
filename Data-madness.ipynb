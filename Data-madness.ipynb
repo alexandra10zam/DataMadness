{
 "cells": [
  {
   "cell_type": "markdown",
   "metadata": {},
   "source": [
    "<font size=5>**Cleaning the data**</font>\n"
   ]
  },
  {
   "cell_type": "code",
   "execution_count": 14,
   "metadata": {},
   "outputs": [],
   "source": [
    "file_path = \"/Users/alexa/Downloads/Overdose_data_1999-2021 1.19.23.xlsx\"\n",
    "with open(file_path, 'rb') as file:\n",
    "    try:\n",
    "        file_contents = file.read().decode('utf-8')\n",
    "    except UnicodeDecodeError as e:\n",
    "        print(\"Error decoding file using UTF-8 encoding:\", e)\n",
    "        try:\n",
    "            \n",
    "            file.seek(0)  \n",
    "            file_contents = file.read().decode('latin-1')\n",
    "        except UnicodeDecodeError as e:\n",
    "            print(\"Error decoding file using Latin-1 encoding:\", e)\n",
    "\n",
    "print(file_contents) \n"
   ]
  },
  {
   "cell_type": "markdown",
   "metadata": {},
   "source": [
    "We want to display each datasheet and table as a DataFrame such that to be clearer when it's needed to read and to handle the missing values.\n"
   ]
  },
  {
   "cell_type": "code",
   "execution_count": 16,
   "metadata": {},
   "outputs": [
    {
     "name": "stdout",
     "output_type": "stream",
     "text": [
      "     Unnamed: 0                                         Unnamed: 1  \\\n",
      "0           NaN  Number of National Drug Overdose Deaths* Invol...   \n",
      "1           NaN  Source: National Center on Health Statistics, ...   \n",
      "2           NaN                                                NaN   \n",
      "3           NaN                                                NaN   \n",
      "4           NaN                                                NaN   \n",
      "..          ...                                                ...   \n",
      "118         NaN          5aStimulants ICD-10 codes (T40.5 & T43.6)   \n",
      "119         NaN                      5Cocaine ICD-10 codes (T40.5)   \n",
      "120         NaN  6Psychostimulants With Abuse Potential ICD-10 ...   \n",
      "121         NaN               7Benzodiazepines  ICD-10 code(T42.4)   \n",
      "122         NaN          8Antidepressants ICD-10 code(T43.0-T43.2)   \n",
      "\n",
      "     Unnamed: 2  Unnamed: 3  Unnamed: 4  Unnamed: 5  Unnamed: 6  Unnamed: 7  \\\n",
      "0           NaN         NaN         NaN         NaN         NaN         NaN   \n",
      "1           NaN         NaN         NaN         NaN         NaN         NaN   \n",
      "2           NaN         NaN         NaN         NaN         NaN         NaN   \n",
      "3           NaN         NaN         NaN         NaN         NaN         NaN   \n",
      "4           NaN         NaN         NaN         NaN         NaN         NaN   \n",
      "..          ...         ...         ...         ...         ...         ...   \n",
      "118         NaN         NaN         NaN         NaN         NaN         NaN   \n",
      "119         NaN         NaN         NaN         NaN         NaN         NaN   \n",
      "120         NaN         NaN         NaN         NaN         NaN         NaN   \n",
      "121         NaN         NaN         NaN         NaN         NaN         NaN   \n",
      "122         NaN         NaN         NaN         NaN         NaN         NaN   \n",
      "\n",
      "     Unnamed: 8  Unnamed: 9  ...  Unnamed: 16  Unnamed: 17  Unnamed: 18  \\\n",
      "0           NaN         NaN  ...          NaN          NaN          NaN   \n",
      "1           NaN         NaN  ...          NaN          NaN          NaN   \n",
      "2           NaN         NaN  ...          NaN          NaN          NaN   \n",
      "3           NaN         NaN  ...          NaN          NaN          NaN   \n",
      "4           NaN         NaN  ...          NaN          NaN          NaN   \n",
      "..          ...         ...  ...          ...          ...          ...   \n",
      "118         NaN         NaN  ...          NaN          NaN          NaN   \n",
      "119         NaN         NaN  ...          NaN          NaN          NaN   \n",
      "120         NaN         NaN  ...          NaN          NaN          NaN   \n",
      "121         NaN         NaN  ...          NaN          NaN          NaN   \n",
      "122         NaN         NaN  ...          NaN          NaN          NaN   \n",
      "\n",
      "     Unnamed: 19  Unnamed: 20  Unnamed: 21  Unnamed: 22  Unnamed: 23  \\\n",
      "0            NaN          NaN          NaN          NaN          NaN   \n",
      "1            NaN          NaN          NaN          NaN          NaN   \n",
      "2            NaN          NaN          NaN          NaN          NaN   \n",
      "3            NaN          NaN          NaN          NaN          NaN   \n",
      "4            NaN          NaN          NaN          NaN          NaN   \n",
      "..           ...          ...          ...          ...          ...   \n",
      "118          NaN          NaN          NaN          NaN          NaN   \n",
      "119          NaN          NaN          NaN          NaN          NaN   \n",
      "120          NaN          NaN          NaN          NaN          NaN   \n",
      "121          NaN          NaN          NaN          NaN          NaN   \n",
      "122          NaN          NaN          NaN          NaN          NaN   \n",
      "\n",
      "     Unnamed: 24  Unnamed: 25  \n",
      "0            NaN          NaN  \n",
      "1            NaN          NaN  \n",
      "2            NaN          NaN  \n",
      "3            NaN          NaN  \n",
      "4            NaN          NaN  \n",
      "..           ...          ...  \n",
      "118          NaN          NaN  \n",
      "119          NaN          NaN  \n",
      "120          NaN          NaN  \n",
      "121          NaN          NaN  \n",
      "122          NaN          NaN  \n",
      "\n",
      "[123 rows x 26 columns]\n"
     ]
    }
   ],
   "source": [
    "import pandas as pd\n",
    "\n",
    "file_path = '/Users/alexa/Downloads/Overdose_data_1999-2021 1.19.23.xlsx'\n",
    "\n",
    "sheet_name = 'Number Drug OD Deaths'  # Replace 'Sheet1' with the name of your sheet or use the sheet index, e.g., 0 for the first sheet\n",
    "\n",
    "# Read the specified sheet into a DataFrame\n",
    "df = pd.read_excel(file_path, sheet_name=sheet_name)\n",
    "\n",
    "# Print the DataFrame\n",
    "print(df)\n"
   ]
  },
  {
   "cell_type": "code",
   "execution_count": null,
   "metadata": {},
   "outputs": [],
   "source": []
  }
 ],
 "metadata": {
  "kernelspec": {
   "display_name": "base",
   "language": "python",
   "name": "python3"
  },
  "language_info": {
   "codemirror_mode": {
    "name": "ipython",
    "version": 3
   },
   "file_extension": ".py",
   "mimetype": "text/x-python",
   "name": "python",
   "nbconvert_exporter": "python",
   "pygments_lexer": "ipython3",
   "version": "3.11.5"
  }
 },
 "nbformat": 4,
 "nbformat_minor": 2
}
